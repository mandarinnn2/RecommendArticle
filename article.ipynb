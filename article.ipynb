{
 "cells": [
  {
   "cell_type": "code",
   "execution_count": 14,
   "id": "1c2c771a-33c0-48c0-8982-0f1232e3b960",
   "metadata": {},
   "outputs": [],
   "source": [
    "#### 라이브러리 import"
   ]
  },
  {
   "cell_type": "code",
   "execution_count": 15,
   "id": "f9859512-4a88-42bd-9b7c-e454b8318ca0",
   "metadata": {},
   "outputs": [],
   "source": [
    "import pandas as pd\n",
    "from sklearn.feature_extraction.text import TfidfVectorizer\n",
    "from sklearn.metrics.pairwise import linear_kernel"
   ]
  },
  {
   "cell_type": "code",
   "execution_count": 16,
   "id": "ed93e92b-330a-4993-b760-627c03d04d25",
   "metadata": {
    "scrolled": true
   },
   "outputs": [
    {
     "data": {
      "text/html": [
       "<div>\n",
       "<style scoped>\n",
       "    .dataframe tbody tr th:only-of-type {\n",
       "        vertical-align: middle;\n",
       "    }\n",
       "\n",
       "    .dataframe tbody tr th {\n",
       "        vertical-align: top;\n",
       "    }\n",
       "\n",
       "    .dataframe thead th {\n",
       "        text-align: right;\n",
       "    }\n",
       "</style>\n",
       "<table border=\"1\" class=\"dataframe\">\n",
       "  <thead>\n",
       "    <tr style=\"text-align: right;\">\n",
       "      <th></th>\n",
       "      <th>articleID</th>\n",
       "      <th>Title</th>\n",
       "      <th>Content</th>\n",
       "      <th>Format</th>\n",
       "      <th>Language</th>\n",
       "      <th>userID</th>\n",
       "      <th>userCountry</th>\n",
       "      <th>userRegion</th>\n",
       "    </tr>\n",
       "  </thead>\n",
       "  <tbody>\n",
       "    <tr>\n",
       "      <th>0</th>\n",
       "      <td>ARTICLE_0000</td>\n",
       "      <td>19 Tips For Everyday Git Use</td>\n",
       "      <td>I've been using git full time for the past 4 y...</td>\n",
       "      <td>HTML</td>\n",
       "      <td>en</td>\n",
       "      <td>USER_0683</td>\n",
       "      <td>NaN</td>\n",
       "      <td>NaN</td>\n",
       "    </tr>\n",
       "    <tr>\n",
       "      <th>1</th>\n",
       "      <td>ARTICLE_0001</td>\n",
       "      <td>Intel buys computer vision startup Itseez to i...</td>\n",
       "      <td>Intel has acquired computer vision and machine...</td>\n",
       "      <td>HTML</td>\n",
       "      <td>en</td>\n",
       "      <td>USER_1129</td>\n",
       "      <td>NaN</td>\n",
       "      <td>NaN</td>\n",
       "    </tr>\n",
       "    <tr>\n",
       "      <th>2</th>\n",
       "      <td>ARTICLE_0002</td>\n",
       "      <td>Practical End-to-End Testing with Protractor</td>\n",
       "      <td>One of the reasons AngularJS is so great to wo...</td>\n",
       "      <td>HTML</td>\n",
       "      <td>en</td>\n",
       "      <td>USER_0256</td>\n",
       "      <td>NaN</td>\n",
       "      <td>NaN</td>\n",
       "    </tr>\n",
       "    <tr>\n",
       "      <th>3</th>\n",
       "      <td>ARTICLE_0003</td>\n",
       "      <td>Corporate venture growth in Brazil is another ...</td>\n",
       "      <td>Despite recent positive news and a renewed int...</td>\n",
       "      <td>HTML</td>\n",
       "      <td>en</td>\n",
       "      <td>USER_1304</td>\n",
       "      <td>NaN</td>\n",
       "      <td>NaN</td>\n",
       "    </tr>\n",
       "    <tr>\n",
       "      <th>4</th>\n",
       "      <td>ARTICLE_0004</td>\n",
       "      <td>Cross-channel user experiences with Drupal (aw...</td>\n",
       "      <td>Last year around this time, I wrote that The B...</td>\n",
       "      <td>HTML</td>\n",
       "      <td>en</td>\n",
       "      <td>USER_0336</td>\n",
       "      <td>NaN</td>\n",
       "      <td>NaN</td>\n",
       "    </tr>\n",
       "  </tbody>\n",
       "</table>\n",
       "</div>"
      ],
      "text/plain": [
       "      articleID                                              Title  \\\n",
       "0  ARTICLE_0000                       19 Tips For Everyday Git Use   \n",
       "1  ARTICLE_0001  Intel buys computer vision startup Itseez to i...   \n",
       "2  ARTICLE_0002       Practical End-to-End Testing with Protractor   \n",
       "3  ARTICLE_0003  Corporate venture growth in Brazil is another ...   \n",
       "4  ARTICLE_0004  Cross-channel user experiences with Drupal (aw...   \n",
       "\n",
       "                                             Content Format Language  \\\n",
       "0  I've been using git full time for the past 4 y...   HTML       en   \n",
       "1  Intel has acquired computer vision and machine...   HTML       en   \n",
       "2  One of the reasons AngularJS is so great to wo...   HTML       en   \n",
       "3  Despite recent positive news and a renewed int...   HTML       en   \n",
       "4  Last year around this time, I wrote that The B...   HTML       en   \n",
       "\n",
       "      userID userCountry userRegion  \n",
       "0  USER_0683         NaN        NaN  \n",
       "1  USER_1129         NaN        NaN  \n",
       "2  USER_0256         NaN        NaN  \n",
       "3  USER_1304         NaN        NaN  \n",
       "4  USER_0336         NaN        NaN  "
      ]
     },
     "execution_count": 16,
     "metadata": {},
     "output_type": "execute_result"
    }
   ],
   "source": [
    "art_info = pd.read_csv(\"article_info.csv\")\n",
    "art_info.head()"
   ]
  },
  {
   "cell_type": "code",
   "execution_count": 17,
   "id": "494aa19a-cebe-4a8b-84d8-f8304424079e",
   "metadata": {},
   "outputs": [
    {
     "data": {
      "text/plain": [
       "3008"
      ]
     },
     "execution_count": 17,
     "metadata": {},
     "output_type": "execute_result"
    }
   ],
   "source": [
    "len(art_info)"
   ]
  },
  {
   "cell_type": "code",
   "execution_count": 18,
   "id": "e882c8af-14f2-4fa9-8d1a-014819c06536",
   "metadata": {
    "scrolled": true
   },
   "outputs": [
    {
     "data": {
      "text/plain": [
       "articleID         0\n",
       "Title             0\n",
       "Content           0\n",
       "Format            0\n",
       "Language          0\n",
       "userID            0\n",
       "userCountry    2349\n",
       "userRegion     2351\n",
       "dtype: int64"
      ]
     },
     "execution_count": 18,
     "metadata": {},
     "output_type": "execute_result"
    }
   ],
   "source": [
    "art_info.isnull().sum()"
   ]
  },
  {
   "cell_type": "code",
   "execution_count": 19,
   "id": "4ac9c410-3661-4ce5-8b66-27ef8a7ed51d",
   "metadata": {},
   "outputs": [
    {
     "data": {
      "text/html": [
       "<div>\n",
       "<style scoped>\n",
       "    .dataframe tbody tr th:only-of-type {\n",
       "        vertical-align: middle;\n",
       "    }\n",
       "\n",
       "    .dataframe tbody tr th {\n",
       "        vertical-align: top;\n",
       "    }\n",
       "\n",
       "    .dataframe thead th {\n",
       "        text-align: right;\n",
       "    }\n",
       "</style>\n",
       "<table border=\"1\" class=\"dataframe\">\n",
       "  <thead>\n",
       "    <tr style=\"text-align: right;\">\n",
       "      <th></th>\n",
       "      <th>userID</th>\n",
       "      <th>articleID</th>\n",
       "      <th>userRegion</th>\n",
       "      <th>userCountry</th>\n",
       "    </tr>\n",
       "  </thead>\n",
       "  <tbody>\n",
       "    <tr>\n",
       "      <th>0</th>\n",
       "      <td>USER_0000</td>\n",
       "      <td>ARTICLE_0661</td>\n",
       "      <td>NY</td>\n",
       "      <td>US</td>\n",
       "    </tr>\n",
       "    <tr>\n",
       "      <th>1</th>\n",
       "      <td>USER_0000</td>\n",
       "      <td>ARTICLE_2316</td>\n",
       "      <td>NY</td>\n",
       "      <td>US</td>\n",
       "    </tr>\n",
       "    <tr>\n",
       "      <th>2</th>\n",
       "      <td>USER_0000</td>\n",
       "      <td>ARTICLE_1345</td>\n",
       "      <td>NY</td>\n",
       "      <td>US</td>\n",
       "    </tr>\n",
       "    <tr>\n",
       "      <th>3</th>\n",
       "      <td>USER_0000</td>\n",
       "      <td>ARTICLE_1089</td>\n",
       "      <td>NY</td>\n",
       "      <td>US</td>\n",
       "    </tr>\n",
       "    <tr>\n",
       "      <th>4</th>\n",
       "      <td>USER_0000</td>\n",
       "      <td>ARTICLE_1484</td>\n",
       "      <td>NY</td>\n",
       "      <td>US</td>\n",
       "    </tr>\n",
       "  </tbody>\n",
       "</table>\n",
       "</div>"
      ],
      "text/plain": [
       "      userID     articleID userRegion userCountry\n",
       "0  USER_0000  ARTICLE_0661         NY          US\n",
       "1  USER_0000  ARTICLE_2316         NY          US\n",
       "2  USER_0000  ARTICLE_1345         NY          US\n",
       "3  USER_0000  ARTICLE_1089         NY          US\n",
       "4  USER_0000  ARTICLE_1484         NY          US"
      ]
     },
     "execution_count": 19,
     "metadata": {},
     "output_type": "execute_result"
    }
   ],
   "source": [
    "view_log = pd.read_csv(\"view_log.csv\")\n",
    "view_log.head()"
   ]
  },
  {
   "cell_type": "markdown",
   "id": "713ac9a1-ac11-43aa-96f5-a0a70ad0e0bc",
   "metadata": {},
   "source": [
    "# article_info의 열별 정보\n",
    "- Format (HTML, VIDEO, RICH(서식이 있는 텍스트 포맷))\n",
    "- Language (en(영어), pt(포르투갈어), la(라틴어), es(스페인어), ja(일본어))\n",
    "- userCountry (BR(브라질), US(미국), CA(캐나다), AU(오스트레일리아), PT(포르투갈))\n",
    "- userRegion (SP(브라질 상파울로), "
   ]
  },
  {
   "cell_type": "code",
   "execution_count": 21,
   "id": "903311e2-918d-4c2e-a7ba-025d8348b993",
   "metadata": {
    "scrolled": true
   },
   "outputs": [
    {
     "data": {
      "text/plain": [
       "Format\n",
       "HTML     2988\n",
       "VIDEO      10\n",
       "RICH       10\n",
       "Name: count, dtype: int64"
      ]
     },
     "execution_count": 21,
     "metadata": {},
     "output_type": "execute_result"
    }
   ],
   "source": [
    "art_info['Format'].value_counts()"
   ]
  },
  {
   "cell_type": "code",
   "execution_count": 22,
   "id": "9e0a309e-ddb2-4e0c-89a8-a4dc79b27065",
   "metadata": {},
   "outputs": [
    {
     "data": {
      "text/plain": [
       "Language\n",
       "en    2176\n",
       "pt     825\n",
       "la       3\n",
       "es       2\n",
       "ja       2\n",
       "Name: count, dtype: int64"
      ]
     },
     "execution_count": 22,
     "metadata": {},
     "output_type": "execute_result"
    }
   ],
   "source": [
    "art_info['Language'].value_counts()"
   ]
  },
  {
   "cell_type": "code",
   "execution_count": 23,
   "id": "5d154cfa-1959-4bee-be19-9c9aa4e1227e",
   "metadata": {},
   "outputs": [
    {
     "data": {
      "text/plain": [
       "userCountry\n",
       "BR    595\n",
       "US     56\n",
       "CA      5\n",
       "AU      2\n",
       "PT      1\n",
       "Name: count, dtype: int64"
      ]
     },
     "execution_count": 23,
     "metadata": {},
     "output_type": "execute_result"
    }
   ],
   "source": [
    "art_info['userCountry'].value_counts()"
   ]
  },
  {
   "cell_type": "code",
   "execution_count": 24,
   "id": "3d5ad839-2608-488e-9365-f32efa9330b7",
   "metadata": {},
   "outputs": [
    {
     "data": {
      "text/plain": [
       "userRegion\n",
       "SP     522\n",
       "MG      68\n",
       "NY      18\n",
       "NJ      16\n",
       "GA       7\n",
       "IL       6\n",
       "RJ       4\n",
       "ON       4\n",
       "NSW      2\n",
       "SC       2\n",
       "TX       2\n",
       "RI       1\n",
       "WA       1\n",
       "FL       1\n",
       "MS       1\n",
       "CA       1\n",
       "AB       1\n",
       "Name: count, dtype: int64"
      ]
     },
     "execution_count": 24,
     "metadata": {},
     "output_type": "execute_result"
    }
   ],
   "source": [
    "art_info['userRegion'].value_counts()"
   ]
  },
  {
   "cell_type": "code",
   "execution_count": 25,
   "id": "465ad1d4-59db-453b-85ca-55d8b897a116",
   "metadata": {},
   "outputs": [
    {
     "data": {
      "text/html": [
       "<div>\n",
       "<style scoped>\n",
       "    .dataframe tbody tr th:only-of-type {\n",
       "        vertical-align: middle;\n",
       "    }\n",
       "\n",
       "    .dataframe tbody tr th {\n",
       "        vertical-align: top;\n",
       "    }\n",
       "\n",
       "    .dataframe thead th {\n",
       "        text-align: right;\n",
       "    }\n",
       "</style>\n",
       "<table border=\"1\" class=\"dataframe\">\n",
       "  <thead>\n",
       "    <tr style=\"text-align: right;\">\n",
       "      <th></th>\n",
       "      <th>articleID</th>\n",
       "      <th>Title</th>\n",
       "      <th>Content</th>\n",
       "      <th>Format</th>\n",
       "      <th>Language</th>\n",
       "      <th>userID</th>\n",
       "      <th>userCountry</th>\n",
       "      <th>userRegion</th>\n",
       "    </tr>\n",
       "  </thead>\n",
       "  <tbody>\n",
       "    <tr>\n",
       "      <th>1388</th>\n",
       "      <td>ARTICLE_1388</td>\n",
       "      <td>The Algorithm March, Japan's Strangely Enterta...</td>\n",
       "      <td>Arugorizumu Koushin! アルゴリズムこうしん (Algorithm Mar...</td>\n",
       "      <td>HTML</td>\n",
       "      <td>ja</td>\n",
       "      <td>USER_0368</td>\n",
       "      <td>NaN</td>\n",
       "      <td>NaN</td>\n",
       "    </tr>\n",
       "    <tr>\n",
       "      <th>2438</th>\n",
       "      <td>ARTICLE_2438</td>\n",
       "      <td>40 Basic Japanese conversations</td>\n",
       "      <td>Japanese conversation using Ninja LINE sticker...</td>\n",
       "      <td>HTML</td>\n",
       "      <td>ja</td>\n",
       "      <td>USER_0368</td>\n",
       "      <td>NaN</td>\n",
       "      <td>NaN</td>\n",
       "    </tr>\n",
       "  </tbody>\n",
       "</table>\n",
       "</div>"
      ],
      "text/plain": [
       "         articleID                                              Title  \\\n",
       "1388  ARTICLE_1388  The Algorithm March, Japan's Strangely Enterta...   \n",
       "2438  ARTICLE_2438                    40 Basic Japanese conversations   \n",
       "\n",
       "                                                Content Format Language  \\\n",
       "1388  Arugorizumu Koushin! アルゴリズムこうしん (Algorithm Mar...   HTML       ja   \n",
       "2438  Japanese conversation using Ninja LINE sticker...   HTML       ja   \n",
       "\n",
       "         userID userCountry userRegion  \n",
       "1388  USER_0368         NaN        NaN  \n",
       "2438  USER_0368         NaN        NaN  "
      ]
     },
     "execution_count": 25,
     "metadata": {},
     "output_type": "execute_result"
    }
   ],
   "source": [
    "art_info[art_info['Language'] == 'ja']"
   ]
  },
  {
   "cell_type": "code",
   "execution_count": 26,
   "id": "0563820f-8316-4717-ad34-8d165f5dcf1f",
   "metadata": {},
   "outputs": [
    {
     "data": {
      "text/html": [
       "<div>\n",
       "<style scoped>\n",
       "    .dataframe tbody tr th:only-of-type {\n",
       "        vertical-align: middle;\n",
       "    }\n",
       "\n",
       "    .dataframe tbody tr th {\n",
       "        vertical-align: top;\n",
       "    }\n",
       "\n",
       "    .dataframe thead th {\n",
       "        text-align: right;\n",
       "    }\n",
       "</style>\n",
       "<table border=\"1\" class=\"dataframe\">\n",
       "  <thead>\n",
       "    <tr style=\"text-align: right;\">\n",
       "      <th></th>\n",
       "      <th>articleID</th>\n",
       "      <th>Title</th>\n",
       "      <th>Content</th>\n",
       "      <th>Format</th>\n",
       "      <th>Language</th>\n",
       "      <th>userID</th>\n",
       "      <th>userCountry</th>\n",
       "      <th>userRegion</th>\n",
       "    </tr>\n",
       "  </thead>\n",
       "  <tbody>\n",
       "    <tr>\n",
       "      <th>524</th>\n",
       "      <td>ARTICLE_0524</td>\n",
       "      <td>Costa Rica presenta su primer edificio constru...</td>\n",
       "      <td>San José, 22 abr (EFE).- Autoridades de Costa ...</td>\n",
       "      <td>HTML</td>\n",
       "      <td>es</td>\n",
       "      <td>USER_0704</td>\n",
       "      <td>NaN</td>\n",
       "      <td>NaN</td>\n",
       "    </tr>\n",
       "    <tr>\n",
       "      <th>988</th>\n",
       "      <td>ARTICLE_0988</td>\n",
       "      <td>La RAE lucha contra los anglicismos con una ca...</td>\n",
       "      <td>La Real Academia Española alerta sobre su abus...</td>\n",
       "      <td>HTML</td>\n",
       "      <td>es</td>\n",
       "      <td>USER_1166</td>\n",
       "      <td>NaN</td>\n",
       "      <td>NaN</td>\n",
       "    </tr>\n",
       "  </tbody>\n",
       "</table>\n",
       "</div>"
      ],
      "text/plain": [
       "        articleID                                              Title  \\\n",
       "524  ARTICLE_0524  Costa Rica presenta su primer edificio constru...   \n",
       "988  ARTICLE_0988  La RAE lucha contra los anglicismos con una ca...   \n",
       "\n",
       "                                               Content Format Language  \\\n",
       "524  San José, 22 abr (EFE).- Autoridades de Costa ...   HTML       es   \n",
       "988  La Real Academia Española alerta sobre su abus...   HTML       es   \n",
       "\n",
       "        userID userCountry userRegion  \n",
       "524  USER_0704         NaN        NaN  \n",
       "988  USER_1166         NaN        NaN  "
      ]
     },
     "execution_count": 26,
     "metadata": {},
     "output_type": "execute_result"
    }
   ],
   "source": [
    "art_info[art_info['Language'] == 'es']"
   ]
  },
  {
   "cell_type": "code",
   "execution_count": 27,
   "id": "ba9fe926-2260-413b-a7ef-105ebbc93895",
   "metadata": {},
   "outputs": [
    {
     "data": {
      "text/html": [
       "<div>\n",
       "<style scoped>\n",
       "    .dataframe tbody tr th:only-of-type {\n",
       "        vertical-align: middle;\n",
       "    }\n",
       "\n",
       "    .dataframe tbody tr th {\n",
       "        vertical-align: top;\n",
       "    }\n",
       "\n",
       "    .dataframe thead th {\n",
       "        text-align: right;\n",
       "    }\n",
       "</style>\n",
       "<table border=\"1\" class=\"dataframe\">\n",
       "  <thead>\n",
       "    <tr style=\"text-align: right;\">\n",
       "      <th></th>\n",
       "      <th>articleID</th>\n",
       "      <th>Title</th>\n",
       "      <th>Content</th>\n",
       "      <th>Format</th>\n",
       "      <th>Language</th>\n",
       "      <th>userID</th>\n",
       "      <th>userCountry</th>\n",
       "      <th>userRegion</th>\n",
       "    </tr>\n",
       "  </thead>\n",
       "  <tbody>\n",
       "    <tr>\n",
       "      <th>756</th>\n",
       "      <td>ARTICLE_0756</td>\n",
       "      <td>Request lesson : How and when to use はず(=hazu)...</td>\n",
       "      <td>= Kotoshi no aki made niwa kare ga dekiru hazu...</td>\n",
       "      <td>HTML</td>\n",
       "      <td>la</td>\n",
       "      <td>USER_0617</td>\n",
       "      <td>NaN</td>\n",
       "      <td>NaN</td>\n",
       "    </tr>\n",
       "    <tr>\n",
       "      <th>808</th>\n",
       "      <td>ARTICLE_0808</td>\n",
       "      <td>git flow with support</td>\n",
       "      <td>Lorem ipsum dolor sit amet, consectetur adipis...</td>\n",
       "      <td>HTML</td>\n",
       "      <td>la</td>\n",
       "      <td>USER_1244</td>\n",
       "      <td>NaN</td>\n",
       "      <td>NaN</td>\n",
       "    </tr>\n",
       "    <tr>\n",
       "      <th>955</th>\n",
       "      <td>ARTICLE_0955</td>\n",
       "      <td>Within a Decade, Retail Banks will be Dead</td>\n",
       "      <td>A соuрlе of weeks ago, I found myself sitting ...</td>\n",
       "      <td>HTML</td>\n",
       "      <td>la</td>\n",
       "      <td>USER_1304</td>\n",
       "      <td>NaN</td>\n",
       "      <td>NaN</td>\n",
       "    </tr>\n",
       "  </tbody>\n",
       "</table>\n",
       "</div>"
      ],
      "text/plain": [
       "        articleID                                              Title  \\\n",
       "756  ARTICLE_0756  Request lesson : How and when to use はず(=hazu)...   \n",
       "808  ARTICLE_0808                              git flow with support   \n",
       "955  ARTICLE_0955         Within a Decade, Retail Banks will be Dead   \n",
       "\n",
       "                                               Content Format Language  \\\n",
       "756  = Kotoshi no aki made niwa kare ga dekiru hazu...   HTML       la   \n",
       "808  Lorem ipsum dolor sit amet, consectetur adipis...   HTML       la   \n",
       "955  A соuрlе of weeks ago, I found myself sitting ...   HTML       la   \n",
       "\n",
       "        userID userCountry userRegion  \n",
       "756  USER_0617         NaN        NaN  \n",
       "808  USER_1244         NaN        NaN  \n",
       "955  USER_1304         NaN        NaN  "
      ]
     },
     "execution_count": 27,
     "metadata": {},
     "output_type": "execute_result"
    }
   ],
   "source": [
    "art_info[art_info['Language'] == 'la']"
   ]
  },
  {
   "cell_type": "code",
   "execution_count": 28,
   "id": "d2d719df-2751-4238-91dd-42db5aed5132",
   "metadata": {},
   "outputs": [
    {
     "data": {
      "text/html": [
       "<div>\n",
       "<style scoped>\n",
       "    .dataframe tbody tr th:only-of-type {\n",
       "        vertical-align: middle;\n",
       "    }\n",
       "\n",
       "    .dataframe tbody tr th {\n",
       "        vertical-align: top;\n",
       "    }\n",
       "\n",
       "    .dataframe thead th {\n",
       "        text-align: right;\n",
       "    }\n",
       "</style>\n",
       "<table border=\"1\" class=\"dataframe\">\n",
       "  <thead>\n",
       "    <tr style=\"text-align: right;\">\n",
       "      <th></th>\n",
       "      <th>articleID</th>\n",
       "      <th>Title</th>\n",
       "      <th>Content</th>\n",
       "      <th>Format</th>\n",
       "      <th>Language</th>\n",
       "      <th>userID</th>\n",
       "      <th>userCountry</th>\n",
       "      <th>userRegion</th>\n",
       "    </tr>\n",
       "  </thead>\n",
       "  <tbody>\n",
       "    <tr>\n",
       "      <th>2390</th>\n",
       "      <td>ARTICLE_2390</td>\n",
       "      <td>The new 64-bit Orange Pi is a quad-core comput...</td>\n",
       "      <td>Need a teeny tiny computer that can run Androi...</td>\n",
       "      <td>HTML</td>\n",
       "      <td>en</td>\n",
       "      <td>USER_1304</td>\n",
       "      <td>PT</td>\n",
       "      <td>NaN</td>\n",
       "    </tr>\n",
       "  </tbody>\n",
       "</table>\n",
       "</div>"
      ],
      "text/plain": [
       "         articleID                                              Title  \\\n",
       "2390  ARTICLE_2390  The new 64-bit Orange Pi is a quad-core comput...   \n",
       "\n",
       "                                                Content Format Language  \\\n",
       "2390  Need a teeny tiny computer that can run Androi...   HTML       en   \n",
       "\n",
       "         userID userCountry userRegion  \n",
       "2390  USER_1304          PT        NaN  "
      ]
     },
     "execution_count": 28,
     "metadata": {},
     "output_type": "execute_result"
    }
   ],
   "source": [
    "art_info[art_info['userCountry'] == 'PT']"
   ]
  },
  {
   "cell_type": "code",
   "execution_count": 29,
   "id": "eb68b197-5f9b-4153-a458-047824d46efa",
   "metadata": {},
   "outputs": [],
   "source": [
    "art_info = art_info.fillna('')"
   ]
  },
  {
   "cell_type": "code",
   "execution_count": 30,
   "id": "d560c065-2611-4271-898d-d8db14cdfcd8",
   "metadata": {},
   "outputs": [
    {
     "data": {
      "text/plain": [
       "(3008, 72276)"
      ]
     },
     "execution_count": 30,
     "metadata": {},
     "output_type": "execute_result"
    }
   ],
   "source": [
    "# Create a TfidfVectorizer and Remove stopwords\n",
    "tfidf = TfidfVectorizer(stop_words='english')\n",
    "# Fit and transform the data to a tfidf matrix\n",
    "tfidf_matrix = tfidf.fit_transform(art_info['Content'])\n",
    "# Print the shape of the tfidf_matrix\n",
    "tfidf_matrix.shape"
   ]
  },
  {
   "cell_type": "code",
   "execution_count": 31,
   "id": "b755c08b-58a3-430e-a22a-805e1714d3df",
   "metadata": {},
   "outputs": [],
   "source": [
    "# Compute the cosine similarity between each movie description\n",
    "cosine_sim = linear_kernel(tfidf_matrix, tfidf_matrix)"
   ]
  },
  {
   "cell_type": "code",
   "execution_count": 32,
   "id": "e8f7a4ce-5b62-41dc-9f7c-ee924fe8fd4d",
   "metadata": {},
   "outputs": [],
   "source": [
    "indices = pd.Series(art_info.index, index=art_info['Title']).drop_duplicates()"
   ]
  },
  {
   "cell_type": "code",
   "execution_count": 33,
   "id": "79f70572-3c46-4748-ace9-b22ea1ad70c3",
   "metadata": {},
   "outputs": [],
   "source": [
    "def get_recommendations(title, cosine_sim=cosine_sim, num_recommend = 10):\n",
    "    idx = indices[title]\n",
    "# Get the pairwsie similarity scores of all movies with that movie\n",
    "    sim_scores = list(enumerate(cosine_sim[idx]))\n",
    "# Sort the movies based on the similarity scores\n",
    "    sim_scores = sorted(sim_scores, key=lambda x: x[1], reverse=True)\n",
    "# Get the scores of the 10 most similar movies\n",
    "    top_similar = sim_scores[1:num_recommend+1]\n",
    "# Get the movie indices\n",
    "    movie_indices = [i[0] for i in top_similar]\n",
    "# Return the top 10 most similar movies\n",
    "    return art_info['Title'].iloc[movie_indices]"
   ]
  },
  {
   "cell_type": "code",
   "execution_count": 34,
   "id": "0fdf590a-4046-47f7-ab70-a381c9a756b0",
   "metadata": {},
   "outputs": [
    {
     "data": {
      "text/plain": [
       "2465    Ranking 50 Maiores Empresas do E-commerce Bras...\n",
       "771     [Free Online Course] Sit Less, Get Active - Th...\n",
       "2252                             Type-based aliasing in C\n",
       "1571    Liberty vai adotar telemetria e baratear segur...\n",
       "1595    15 Awesome Sublime Text Plugins For Web Develo...\n",
       "Name: Title, dtype: object"
      ]
     },
     "execution_count": 34,
     "metadata": {},
     "output_type": "execute_result"
    }
   ],
   "source": [
    "get_recommendations('git flow with support', num_recommend = 5)"
   ]
  },
  {
   "cell_type": "code",
   "execution_count": 35,
   "id": "5af55e1e-870e-43d9-bb21-1148d5d31a4e",
   "metadata": {},
   "outputs": [],
   "source": [
    "sample = pd.read_csv('sample_submission.csv')"
   ]
  },
  {
   "cell_type": "code",
   "execution_count": 36,
   "id": "102d53e4-c692-4b43-9425-dca89d107d29",
   "metadata": {
    "scrolled": true
   },
   "outputs": [
    {
     "data": {
      "text/html": [
       "<div>\n",
       "<style scoped>\n",
       "    .dataframe tbody tr th:only-of-type {\n",
       "        vertical-align: middle;\n",
       "    }\n",
       "\n",
       "    .dataframe tbody tr th {\n",
       "        vertical-align: top;\n",
       "    }\n",
       "\n",
       "    .dataframe thead th {\n",
       "        text-align: right;\n",
       "    }\n",
       "</style>\n",
       "<table border=\"1\" class=\"dataframe\">\n",
       "  <thead>\n",
       "    <tr style=\"text-align: right;\">\n",
       "      <th></th>\n",
       "      <th>userID</th>\n",
       "      <th>articleID</th>\n",
       "    </tr>\n",
       "  </thead>\n",
       "  <tbody>\n",
       "    <tr>\n",
       "      <th>0</th>\n",
       "      <td>USER_0000</td>\n",
       "      <td>ARTICLE_0000</td>\n",
       "    </tr>\n",
       "    <tr>\n",
       "      <th>1</th>\n",
       "      <td>USER_0000</td>\n",
       "      <td>ARTICLE_0001</td>\n",
       "    </tr>\n",
       "    <tr>\n",
       "      <th>2</th>\n",
       "      <td>USER_0000</td>\n",
       "      <td>ARTICLE_0002</td>\n",
       "    </tr>\n",
       "    <tr>\n",
       "      <th>3</th>\n",
       "      <td>USER_0000</td>\n",
       "      <td>ARTICLE_0003</td>\n",
       "    </tr>\n",
       "    <tr>\n",
       "      <th>4</th>\n",
       "      <td>USER_0000</td>\n",
       "      <td>ARTICLE_0004</td>\n",
       "    </tr>\n",
       "  </tbody>\n",
       "</table>\n",
       "</div>"
      ],
      "text/plain": [
       "      userID     articleID\n",
       "0  USER_0000  ARTICLE_0000\n",
       "1  USER_0000  ARTICLE_0001\n",
       "2  USER_0000  ARTICLE_0002\n",
       "3  USER_0000  ARTICLE_0003\n",
       "4  USER_0000  ARTICLE_0004"
      ]
     },
     "execution_count": 36,
     "metadata": {},
     "output_type": "execute_result"
    }
   ],
   "source": [
    "sample.head()"
   ]
  },
  {
   "cell_type": "code",
   "execution_count": 37,
   "id": "149d18c6-8f2c-45e1-a732-9cca9a5302c6",
   "metadata": {},
   "outputs": [],
   "source": [
    "# userID의 "
   ]
  },
  {
   "cell_type": "code",
   "execution_count": 38,
   "id": "8d0de9c5-0753-4322-9754-32511cfe51b3",
   "metadata": {},
   "outputs": [],
   "source": [
    "for i in range(len(sample) // 5):\n",
    "    sample['userID'][i * 5]"
   ]
  },
  {
   "cell_type": "code",
   "execution_count": 39,
   "id": "973cd4a1-1970-4064-9371-44e5f6c25ab6",
   "metadata": {},
   "outputs": [
    {
     "ename": "NameError",
     "evalue": "name 'x' is not defined",
     "output_type": "error",
     "traceback": [
      "\u001b[1;31m---------------------------------------------------------------------------\u001b[0m",
      "\u001b[1;31mNameError\u001b[0m                                 Traceback (most recent call last)",
      "Cell \u001b[1;32mIn[39], line 1\u001b[0m\n\u001b[1;32m----> 1\u001b[0m x\u001b[38;5;241m.\u001b[39mto_csv(\u001b[38;5;124m'\u001b[39m\u001b[38;5;124msubmission.csv\u001b[39m\u001b[38;5;124m'\u001b[39m, index \u001b[38;5;241m=\u001b[39m \u001b[38;5;28;01mFalse\u001b[39;00m)\n",
      "\u001b[1;31mNameError\u001b[0m: name 'x' is not defined"
     ]
    }
   ],
   "source": [
    "# x.to_csv('submission.csv', index = False)"
   ]
  },
  {
   "cell_type": "markdown",
   "id": "3fe38e60-c070-4819-9aa7-977ba4ae1a56",
   "metadata": {},
   "source": [
    "#### 각 회원들이 본 기사를 배열 형식으로 변경하기"
   ]
  },
  {
   "cell_type": "code",
   "execution_count": 59,
   "id": "dbef915b-da18-41e8-8ac5-0bec49356f94",
   "metadata": {
    "scrolled": true
   },
   "outputs": [
    {
     "data": {
      "text/html": [
       "<div>\n",
       "<style scoped>\n",
       "    .dataframe tbody tr th:only-of-type {\n",
       "        vertical-align: middle;\n",
       "    }\n",
       "\n",
       "    .dataframe tbody tr th {\n",
       "        vertical-align: top;\n",
       "    }\n",
       "\n",
       "    .dataframe thead th {\n",
       "        text-align: right;\n",
       "    }\n",
       "</style>\n",
       "<table border=\"1\" class=\"dataframe\">\n",
       "  <thead>\n",
       "    <tr style=\"text-align: right;\">\n",
       "      <th></th>\n",
       "      <th>userID</th>\n",
       "      <th>articleID</th>\n",
       "    </tr>\n",
       "  </thead>\n",
       "  <tbody>\n",
       "    <tr>\n",
       "      <th>0</th>\n",
       "      <td>USER_0000</td>\n",
       "      <td>[ARTICLE_0661, ARTICLE_2316, ARTICLE_1345, ART...</td>\n",
       "    </tr>\n",
       "    <tr>\n",
       "      <th>1</th>\n",
       "      <td>USER_0001</td>\n",
       "      <td>[ARTICLE_1408, ARTICLE_0202, ARTICLE_2406, ART...</td>\n",
       "    </tr>\n",
       "    <tr>\n",
       "      <th>2</th>\n",
       "      <td>USER_0002</td>\n",
       "      <td>[ARTICLE_2504, ARTICLE_2803, ARTICLE_1910, ART...</td>\n",
       "    </tr>\n",
       "    <tr>\n",
       "      <th>3</th>\n",
       "      <td>USER_0003</td>\n",
       "      <td>[ARTICLE_2115, ARTICLE_1092, ARTICLE_0958, ART...</td>\n",
       "    </tr>\n",
       "    <tr>\n",
       "      <th>4</th>\n",
       "      <td>USER_0004</td>\n",
       "      <td>[ARTICLE_0173, ARTICLE_2259, ARTICLE_0690, ART...</td>\n",
       "    </tr>\n",
       "  </tbody>\n",
       "</table>\n",
       "</div>"
      ],
      "text/plain": [
       "      userID                                          articleID\n",
       "0  USER_0000  [ARTICLE_0661, ARTICLE_2316, ARTICLE_1345, ART...\n",
       "1  USER_0001  [ARTICLE_1408, ARTICLE_0202, ARTICLE_2406, ART...\n",
       "2  USER_0002  [ARTICLE_2504, ARTICLE_2803, ARTICLE_1910, ART...\n",
       "3  USER_0003  [ARTICLE_2115, ARTICLE_1092, ARTICLE_0958, ART...\n",
       "4  USER_0004  [ARTICLE_0173, ARTICLE_2259, ARTICLE_0690, ART..."
      ]
     },
     "execution_count": 59,
     "metadata": {},
     "output_type": "execute_result"
    }
   ],
   "source": [
    "result = view_log.groupby('userID')['articleID'].agg(lambda x: list(x)).reset_index()\n",
    "result.head()"
   ]
  },
  {
   "cell_type": "markdown",
   "id": "5d984b93-67c6-4a19-bbaf-54c3bd40f229",
   "metadata": {},
   "source": [
    "#### 기사 제목 ID와 실제 제목 합치기"
   ]
  },
  {
   "cell_type": "code",
   "execution_count": 60,
   "id": "09ed9e54-b96f-47d5-9727-1ee6226e221d",
   "metadata": {},
   "outputs": [
    {
     "data": {
      "text/html": [
       "<div>\n",
       "<style scoped>\n",
       "    .dataframe tbody tr th:only-of-type {\n",
       "        vertical-align: middle;\n",
       "    }\n",
       "\n",
       "    .dataframe tbody tr th {\n",
       "        vertical-align: top;\n",
       "    }\n",
       "\n",
       "    .dataframe thead th {\n",
       "        text-align: right;\n",
       "    }\n",
       "</style>\n",
       "<table border=\"1\" class=\"dataframe\">\n",
       "  <thead>\n",
       "    <tr style=\"text-align: right;\">\n",
       "      <th></th>\n",
       "      <th>userID</th>\n",
       "      <th>articleID</th>\n",
       "      <th>userRegion</th>\n",
       "      <th>userCountry</th>\n",
       "      <th>Title</th>\n",
       "      <th>Content</th>\n",
       "      <th>Format</th>\n",
       "      <th>Language</th>\n",
       "    </tr>\n",
       "  </thead>\n",
       "  <tbody>\n",
       "    <tr>\n",
       "      <th>0</th>\n",
       "      <td>USER_0014</td>\n",
       "      <td>ARTICLE_1890</td>\n",
       "      <td>MG</td>\n",
       "      <td>BR</td>\n",
       "      <td>Stop Trying to Sound Smart When You're Writing</td>\n",
       "      <td>When I read a piece of business writing, wheth...</td>\n",
       "      <td>HTML</td>\n",
       "      <td>en</td>\n",
       "    </tr>\n",
       "    <tr>\n",
       "      <th>1</th>\n",
       "      <td>USER_0014</td>\n",
       "      <td>ARTICLE_2789</td>\n",
       "      <td>MG</td>\n",
       "      <td>BR</td>\n",
       "      <td>Rating the English Proficiency of Countries an...</td>\n",
       "      <td>In the aviation industry, miscommunication can...</td>\n",
       "      <td>HTML</td>\n",
       "      <td>en</td>\n",
       "    </tr>\n",
       "    <tr>\n",
       "      <th>2</th>\n",
       "      <td>USER_0014</td>\n",
       "      <td>ARTICLE_2789</td>\n",
       "      <td>MG</td>\n",
       "      <td>BR</td>\n",
       "      <td>Rating the English Proficiency of Countries an...</td>\n",
       "      <td>In the aviation industry, miscommunication can...</td>\n",
       "      <td>HTML</td>\n",
       "      <td>en</td>\n",
       "    </tr>\n",
       "    <tr>\n",
       "      <th>3</th>\n",
       "      <td>USER_0014</td>\n",
       "      <td>ARTICLE_2789</td>\n",
       "      <td>MG</td>\n",
       "      <td>BR</td>\n",
       "      <td>Rating the English Proficiency of Countries an...</td>\n",
       "      <td>In the aviation industry, miscommunication can...</td>\n",
       "      <td>HTML</td>\n",
       "      <td>en</td>\n",
       "    </tr>\n",
       "    <tr>\n",
       "      <th>4</th>\n",
       "      <td>USER_0014</td>\n",
       "      <td>ARTICLE_1890</td>\n",
       "      <td>MG</td>\n",
       "      <td>BR</td>\n",
       "      <td>Stop Trying to Sound Smart When You're Writing</td>\n",
       "      <td>When I read a piece of business writing, wheth...</td>\n",
       "      <td>HTML</td>\n",
       "      <td>en</td>\n",
       "    </tr>\n",
       "  </tbody>\n",
       "</table>\n",
       "</div>"
      ],
      "text/plain": [
       "      userID     articleID userRegion userCountry  \\\n",
       "0  USER_0014  ARTICLE_1890         MG          BR   \n",
       "1  USER_0014  ARTICLE_2789         MG          BR   \n",
       "2  USER_0014  ARTICLE_2789         MG          BR   \n",
       "3  USER_0014  ARTICLE_2789         MG          BR   \n",
       "4  USER_0014  ARTICLE_1890         MG          BR   \n",
       "\n",
       "                                               Title  \\\n",
       "0     Stop Trying to Sound Smart When You're Writing   \n",
       "1  Rating the English Proficiency of Countries an...   \n",
       "2  Rating the English Proficiency of Countries an...   \n",
       "3  Rating the English Proficiency of Countries an...   \n",
       "4     Stop Trying to Sound Smart When You're Writing   \n",
       "\n",
       "                                             Content Format Language  \n",
       "0  When I read a piece of business writing, wheth...   HTML       en  \n",
       "1  In the aviation industry, miscommunication can...   HTML       en  \n",
       "2  In the aviation industry, miscommunication can...   HTML       en  \n",
       "3  In the aviation industry, miscommunication can...   HTML       en  \n",
       "4  When I read a piece of business writing, wheth...   HTML       en  "
      ]
     },
     "execution_count": 60,
     "metadata": {},
     "output_type": "execute_result"
    }
   ],
   "source": [
    "result2 = pd.merge(view_log, art_info)\n",
    "result2.head()"
   ]
  },
  {
   "cell_type": "code",
   "execution_count": 61,
   "id": "191bd61b-9d2d-4e76-86a4-e983ec638e8b",
   "metadata": {},
   "outputs": [
    {
     "data": {
      "text/html": [
       "<div>\n",
       "<style scoped>\n",
       "    .dataframe tbody tr th:only-of-type {\n",
       "        vertical-align: middle;\n",
       "    }\n",
       "\n",
       "    .dataframe tbody tr th {\n",
       "        vertical-align: top;\n",
       "    }\n",
       "\n",
       "    .dataframe thead th {\n",
       "        text-align: right;\n",
       "    }\n",
       "</style>\n",
       "<table border=\"1\" class=\"dataframe\">\n",
       "  <thead>\n",
       "    <tr style=\"text-align: right;\">\n",
       "      <th></th>\n",
       "      <th>userID</th>\n",
       "      <th>articleID</th>\n",
       "    </tr>\n",
       "  </thead>\n",
       "  <tbody>\n",
       "    <tr>\n",
       "      <th>0</th>\n",
       "      <td>USER_0014</td>\n",
       "      <td>[ARTICLE_1890, ARTICLE_2789, ARTICLE_2789, ART...</td>\n",
       "    </tr>\n",
       "    <tr>\n",
       "      <th>1</th>\n",
       "      <td>USER_0017</td>\n",
       "      <td>[ARTICLE_0059, ARTICLE_0130, ARTICLE_2074, ART...</td>\n",
       "    </tr>\n",
       "    <tr>\n",
       "      <th>2</th>\n",
       "      <td>USER_0021</td>\n",
       "      <td>[ARTICLE_2911, ARTICLE_1743, ARTICLE_2911, ART...</td>\n",
       "    </tr>\n",
       "    <tr>\n",
       "      <th>3</th>\n",
       "      <td>USER_0026</td>\n",
       "      <td>[ARTICLE_0193, ARTICLE_0220, ARTICLE_0220, ART...</td>\n",
       "    </tr>\n",
       "    <tr>\n",
       "      <th>4</th>\n",
       "      <td>USER_0047</td>\n",
       "      <td>[ARTICLE_1917, ARTICLE_1028, ARTICLE_1028, ART...</td>\n",
       "    </tr>\n",
       "  </tbody>\n",
       "</table>\n",
       "</div>"
      ],
      "text/plain": [
       "      userID                                          articleID\n",
       "0  USER_0014  [ARTICLE_1890, ARTICLE_2789, ARTICLE_2789, ART...\n",
       "1  USER_0017  [ARTICLE_0059, ARTICLE_0130, ARTICLE_2074, ART...\n",
       "2  USER_0021  [ARTICLE_2911, ARTICLE_1743, ARTICLE_2911, ART...\n",
       "3  USER_0026  [ARTICLE_0193, ARTICLE_0220, ARTICLE_0220, ART...\n",
       "4  USER_0047  [ARTICLE_1917, ARTICLE_1028, ARTICLE_1028, ART..."
      ]
     },
     "execution_count": 61,
     "metadata": {},
     "output_type": "execute_result"
    }
   ],
   "source": [
    "result3 = result2.groupby('userID')['articleID'].agg(lambda x: list(x)).reset_index()\n",
    "result3.head()"
   ]
  },
  {
   "cell_type": "code",
   "execution_count": 62,
   "id": "8e09777c-f846-41f2-a95c-9d2c6f04861f",
   "metadata": {},
   "outputs": [
    {
     "data": {
      "text/html": [
       "<div>\n",
       "<style scoped>\n",
       "    .dataframe tbody tr th:only-of-type {\n",
       "        vertical-align: middle;\n",
       "    }\n",
       "\n",
       "    .dataframe tbody tr th {\n",
       "        vertical-align: top;\n",
       "    }\n",
       "\n",
       "    .dataframe thead th {\n",
       "        text-align: right;\n",
       "    }\n",
       "</style>\n",
       "<table border=\"1\" class=\"dataframe\">\n",
       "  <thead>\n",
       "    <tr style=\"text-align: right;\">\n",
       "      <th></th>\n",
       "      <th>userID</th>\n",
       "      <th>Title</th>\n",
       "    </tr>\n",
       "  </thead>\n",
       "  <tbody>\n",
       "    <tr>\n",
       "      <th>0</th>\n",
       "      <td>USER_0014</td>\n",
       "      <td>[Stop Trying to Sound Smart When You're Writin...</td>\n",
       "    </tr>\n",
       "    <tr>\n",
       "      <th>1</th>\n",
       "      <td>USER_0017</td>\n",
       "      <td>[All Together Now. Introducing G Suite., New E...</td>\n",
       "    </tr>\n",
       "    <tr>\n",
       "      <th>2</th>\n",
       "      <td>USER_0021</td>\n",
       "      <td>[Plano nacional de ''internet das coisas'' sai...</td>\n",
       "    </tr>\n",
       "    <tr>\n",
       "      <th>3</th>\n",
       "      <td>USER_0026</td>\n",
       "      <td>[Depois da Inteligência Artificial, vem aí a I...</td>\n",
       "    </tr>\n",
       "    <tr>\n",
       "      <th>4</th>\n",
       "      <td>USER_0047</td>\n",
       "      <td>[A Data Engineer's Guide To Non-Traditional Da...</td>\n",
       "    </tr>\n",
       "  </tbody>\n",
       "</table>\n",
       "</div>"
      ],
      "text/plain": [
       "      userID                                              Title\n",
       "0  USER_0014  [Stop Trying to Sound Smart When You're Writin...\n",
       "1  USER_0017  [All Together Now. Introducing G Suite., New E...\n",
       "2  USER_0021  [Plano nacional de ''internet das coisas'' sai...\n",
       "3  USER_0026  [Depois da Inteligência Artificial, vem aí a I...\n",
       "4  USER_0047  [A Data Engineer's Guide To Non-Traditional Da..."
      ]
     },
     "execution_count": 62,
     "metadata": {},
     "output_type": "execute_result"
    }
   ],
   "source": [
    "result4 = result2.groupby('userID')['Title'].agg(lambda x: list(x)).reset_index()\n",
    "result4.head()"
   ]
  },
  {
   "cell_type": "code",
   "execution_count": 63,
   "id": "79725528-9890-4d8c-87a3-64838f5f5848",
   "metadata": {},
   "outputs": [
    {
     "data": {
      "text/plain": [
       "'When I read a piece of business writing, whether it\\'s a proposal, a report, or a simple email, I\\'m turned off by people who have invested more energy trying to sound smart than in trying to be smart. Ideally, I\\'d like to read communications where I don\\'t notice the writing at all. The best writing is so transparent that it doesn\\'t obscure the underlying message. You can achieve that in your writing by investing in great content and then stripping away anything that detracts from it. How do you make your content great? Before crafting a single sentence, you determine the purpose and desired outcome of your communication. You go beyond the facts and information you\\'re transmitting and push yourself to clarify what you want your audience to think, to feel, and to do after they\\'ve read your message. For example, saying that you\\'re 60% of the way to your annual target might leave one person thinking that you are progressing well and another thinking that the 40% gap is too large to close. If you want people drawing one conclusion rather than the other, you\\'ll either need to add facts (e.g., last year at this time, we were only 49% of the way there and we only came up 2% short) or commentary (e.g., I know from experience that 40% is well within our reach). Include what\\'s required to get your audience to interpret the message the way you want. Once you\\'re clear on what you want people to think, go one layer deeper and consider how you want them to feel. If you want your audience to act, you need to stir something in them that goes well beyond intellect; you need to evoke the emotions that will fuel action. What are you trying to tap into? Be clear about what feelings you\\'re trying to create because written communication leaves room for very different emotional reactions. In the example above, do you want people to feel excited by the chance to close the 40% gap? If so, how are you reducing the likelihood that they will go straight to fear of failure? The tone of your message comes out in the words you choose. Choose wisely. You and Your Team Series Business Writing If your message has a purpose, you are communicating because you want people to do something differently. What is it that you want them to do? Does closing the gap mean phoning one customer each morning before opening their email? Are you asking them to recommend one complementary product each time someone makes a purchase? Don\\'t forget to make the ask. Now, you\\'ve worked through what you want your audience to know, think, feel, and do and you might think you\\'re done. You\\'re not. Take one more pass through your message to see if the knowledge, perceptions, and emotions set up the action you were looking for. If not, add to or modify your message. If you\\'ve crafted a message with a clear outcome in mind and baked in all the components to support that outcome, you\\'re way ahead of most people. Now, go back over your language and grammar and look for opportunities to simplify, tighten, and remove speed bumps from your writing. You want to fix anything that detracts from the core message. As Elmore Leonard said , \"If it sounds like writing...rewrite it.\" Here are a few things to check: Eliminate fancy-pants words. If you communicate effectively, you reduce the distance between you and your reader. Unfortunately, many people use language in a way that increases that distance and weakens the connection. There\\'s no faster way to distance your audience than by using highfalutin words to try to impress them (you know, highfalutin words like, \"highfalutin\"). Beware of using words incorrectly. My personal pet peeve is \"methodology,\" which like every other -ology in the English language, should refer to the study or system of something. If you\\'re just using a method, say method. While you\\'re at it, strike utilize, leverage, and paradigm too! ( Business jargon is not a \"value-add.\" ) Any time you are inclined to use a word that makes you feel smarter than the person you\\'re communicating with, choose again. Choose words that strengthen the connection between you and your readers. Make bulleted lists flow. Using bullet points can help you be succinct and help your reader key-in on the most important information. A bulleted list should create a rhythm for the reader almost like reading the lines of a poem. Unfortunately, it\\'s common to read lists where the parts of speech don\\'t match. For example, three of the four bullets might start with verbs but one starts with an adjective. This interrupts the flow and makes it difficult for the reader. Imagine a bulleted list that includes: reduce absences; increase motivation; disengaged employees; identify concerns. If you\\'re using a bulleted list, make sure each bullet has the same grammatical form. Use an active voice. The one sure-fire way to make your writing more pompous is to use a passive voice; where the object of an action becomes the subject of the sentence. There\\'s a great web resource from the University of North Carolina, which gives the example, \"Why was the road crossed by the chicken\" to demonstrate the impact of leaving the actor in the sentence (the chicken) to the end. The easiest way to spot the passive voice in your writing is to look for sentences with is, am, are, were, be, being, or been. See if you can rewrite these sentences with a verb other than to be. \"Complaints were lodged by customers,\" becomes, \"Customers lodged complaints.\" \"The contract will be issued Friday,\" becomes, \"I will issue the contract Friday.\" If you use an active voice, you\\'ll be more interesting to your reader. You\\'ll also give your reader more information and leave them feeling that you understand your accountability - all good things in business writing. Great writing for the sake of great writing is best left to poets and novelists. Great business writing should deliver its content without getting in the way. Invest your energy in choosing words that will inspire the actions you\\'re looking for and strip away anything that will detract from your core message.'"
      ]
     },
     "execution_count": 63,
     "metadata": {},
     "output_type": "execute_result"
    }
   ],
   "source": [
    "result2['Content'][0]"
   ]
  },
  {
   "cell_type": "markdown",
   "id": "aa5ccb27-13de-4694-b771-9e8e841e278a",
   "metadata": {},
   "source": [
    "## 제목 기준, userRegion, userCountry, Title, Content, Format, Language를 기준으로 기사 추천해주기..."
   ]
  }
 ],
 "metadata": {
  "kernelspec": {
   "display_name": "Python 3 (ipykernel)",
   "language": "python",
   "name": "python3"
  },
  "language_info": {
   "codemirror_mode": {
    "name": "ipython",
    "version": 3
   },
   "file_extension": ".py",
   "mimetype": "text/x-python",
   "name": "python",
   "nbconvert_exporter": "python",
   "pygments_lexer": "ipython3",
   "version": "3.12.4"
  }
 },
 "nbformat": 4,
 "nbformat_minor": 5
}
